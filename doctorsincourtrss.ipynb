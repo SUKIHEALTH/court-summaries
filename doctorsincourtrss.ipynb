{
 "cells": [
  {
   "cell_type": "code",
   "execution_count": null,
   "id": "f5a22600-6fcc-4586-9083-a484fe539ecf",
   "metadata": {},
   "outputs": [],
   "source": [
    "import json\n",
    "from pathlib import Path\n",
    "\n",
    "CACHE_FILE = \"summarized_cases.json\"\n"
   ]
  },
  {
   "cell_type": "code",
   "execution_count": null,
   "id": "87bc4ae5-fce3-47de-92a1-c8b6a0cf2891",
   "metadata": {},
   "outputs": [],
   "source": [
    "def load_cached_urls():\n",
    "    if Path(CACHE_FILE).exists():\n",
    "        with open(CACHE_FILE, \"r\") as f:\n",
    "            return set(json.load(f))\n",
    "    return set()\n",
    "\n",
    "def save_cached_urls(urls):\n",
    "    with open(CACHE_FILE, \"w\") as f:\n",
    "        json.dump(list(urls), f)\n"
   ]
  },
  {
   "cell_type": "code",
   "execution_count": null,
   "id": "eb4217fb-0ed3-41e1-9c69-16938d8f9f42",
   "metadata": {},
   "outputs": [],
   "source": [
    "cached_urls = load_cached_urls()\n",
    "new_items = [item for item in items if item['link'] not in cached_urls]\n"
   ]
  },
  {
   "cell_type": "code",
   "execution_count": 2,
   "id": "fda8124d-160d-4f2c-8d2e-5d4c4b8ec0eb",
   "metadata": {},
   "outputs": [
    {
     "name": "stdout",
     "output_type": "stream",
     "text": [
      "Requirement already satisfied: feedparser in c:\\users\\sabinefonderson\\anaconda3\\envs\\llms\\lib\\site-packages (6.0.11)\n",
      "Collecting PyMuPDF\n",
      "  Downloading pymupdf-1.26.1-cp39-abi3-win_amd64.whl.metadata (3.4 kB)\n",
      "Requirement already satisfied: openai in c:\\users\\sabinefonderson\\anaconda3\\envs\\llms\\lib\\site-packages (1.84.0)\n",
      "Requirement already satisfied: sgmllib3k in c:\\users\\sabinefonderson\\anaconda3\\envs\\llms\\lib\\site-packages (from feedparser) (1.0.0)\n",
      "Requirement already satisfied: anyio<5,>=3.5.0 in c:\\users\\sabinefonderson\\anaconda3\\envs\\llms\\lib\\site-packages (from openai) (4.9.0)\n",
      "Requirement already satisfied: distro<2,>=1.7.0 in c:\\users\\sabinefonderson\\anaconda3\\envs\\llms\\lib\\site-packages (from openai) (1.9.0)\n",
      "Requirement already satisfied: httpx<1,>=0.23.0 in c:\\users\\sabinefonderson\\anaconda3\\envs\\llms\\lib\\site-packages (from openai) (0.28.1)\n",
      "Requirement already satisfied: jiter<1,>=0.4.0 in c:\\users\\sabinefonderson\\anaconda3\\envs\\llms\\lib\\site-packages (from openai) (0.10.0)\n",
      "Requirement already satisfied: pydantic<3,>=1.9.0 in c:\\users\\sabinefonderson\\anaconda3\\envs\\llms\\lib\\site-packages (from openai) (2.11.4)\n",
      "Requirement already satisfied: sniffio in c:\\users\\sabinefonderson\\anaconda3\\envs\\llms\\lib\\site-packages (from openai) (1.3.1)\n",
      "Requirement already satisfied: tqdm>4 in c:\\users\\sabinefonderson\\anaconda3\\envs\\llms\\lib\\site-packages (from openai) (4.67.1)\n",
      "Requirement already satisfied: typing-extensions<5,>=4.11 in c:\\users\\sabinefonderson\\anaconda3\\envs\\llms\\lib\\site-packages (from openai) (4.13.2)\n",
      "Requirement already satisfied: idna>=2.8 in c:\\users\\sabinefonderson\\anaconda3\\envs\\llms\\lib\\site-packages (from anyio<5,>=3.5.0->openai) (3.10)\n",
      "Requirement already satisfied: certifi in c:\\users\\sabinefonderson\\anaconda3\\envs\\llms\\lib\\site-packages (from httpx<1,>=0.23.0->openai) (2025.4.26)\n",
      "Requirement already satisfied: httpcore==1.* in c:\\users\\sabinefonderson\\anaconda3\\envs\\llms\\lib\\site-packages (from httpx<1,>=0.23.0->openai) (1.0.9)\n",
      "Requirement already satisfied: h11>=0.16 in c:\\users\\sabinefonderson\\anaconda3\\envs\\llms\\lib\\site-packages (from httpcore==1.*->httpx<1,>=0.23.0->openai) (0.16.0)\n",
      "Requirement already satisfied: annotated-types>=0.6.0 in c:\\users\\sabinefonderson\\anaconda3\\envs\\llms\\lib\\site-packages (from pydantic<3,>=1.9.0->openai) (0.7.0)\n",
      "Requirement already satisfied: pydantic-core==2.33.2 in c:\\users\\sabinefonderson\\anaconda3\\envs\\llms\\lib\\site-packages (from pydantic<3,>=1.9.0->openai) (2.33.2)\n",
      "Requirement already satisfied: typing-inspection>=0.4.0 in c:\\users\\sabinefonderson\\anaconda3\\envs\\llms\\lib\\site-packages (from pydantic<3,>=1.9.0->openai) (0.4.1)\n",
      "Requirement already satisfied: colorama in c:\\users\\sabinefonderson\\anaconda3\\envs\\llms\\lib\\site-packages (from tqdm>4->openai) (0.4.6)\n",
      "Downloading pymupdf-1.26.1-cp39-abi3-win_amd64.whl (18.5 MB)\n",
      "   ---------------------------------------- 0.0/18.5 MB ? eta -:--:--\n",
      "   ------- -------------------------------- 3.4/18.5 MB 22.5 MB/s eta 0:00:01\n",
      "   -------------- ------------------------- 6.6/18.5 MB 16.8 MB/s eta 0:00:01\n",
      "   -------------------------------- ------- 15.2/18.5 MB 25.2 MB/s eta 0:00:01\n",
      "   ---------------------------------------- 18.5/18.5 MB 26.6 MB/s eta 0:00:00\n",
      "Installing collected packages: PyMuPDF\n",
      "Successfully installed PyMuPDF-1.26.1\n"
     ]
    }
   ],
   "source": [
    "# Run this if you're on Colab or a new environment\n",
    "!pip install feedparser PyMuPDF openai\n"
   ]
  },
  {
   "cell_type": "code",
   "execution_count": 3,
   "id": "e0da8210-ab87-431d-8985-081d4ff4759a",
   "metadata": {},
   "outputs": [],
   "source": [
    "import feedparser\n",
    "import requests\n",
    "import fitz  # PyMuPDF\n",
    "import openai\n",
    "import os\n",
    "from dotenv import load_dotenv\n"
   ]
  },
  {
   "cell_type": "code",
   "execution_count": 8,
   "id": "952537a7-6e2e-45ac-b2f8-5077c19dface",
   "metadata": {},
   "outputs": [
    {
     "name": "stdout",
     "output_type": "stream",
     "text": [
      "✅ API key looks valid\n"
     ]
    }
   ],
   "source": [
    "from openai import OpenAI\n",
    "from dotenv import load_dotenv\n",
    "import os\n",
    "\n",
    "# Load API key\n",
    "load_dotenv(override=True)\n",
    "api_key = os.getenv('OPENAI_API_KEY')\n",
    "\n",
    "if api_key and api_key.startswith('sk-') and len(api_key) > 10:\n",
    "    print(\"✅ API key looks valid\")\n",
    "else:\n",
    "    print(\"❌ Invalid API key. Please check .env file\")\n",
    "\n",
    "# Initialize OpenAI client\n",
    "openai = OpenAI(api_key=api_key)\n",
    "\n",
    "# Model to use\n",
    "MODEL = 'gpt-4o'\n"
   ]
  },
  {
   "cell_type": "code",
   "execution_count": 9,
   "id": "87862ab9-856c-45c5-8e87-04be1a247d73",
   "metadata": {},
   "outputs": [
    {
     "name": "stdout",
     "output_type": "stream",
     "text": [
      "A doctor faced a complaint for sharing patient information without obtaining prior consent from the patient.\n"
     ]
    }
   ],
   "source": [
    "response = openai.chat.completions.create(\n",
    "    model=MODEL,\n",
    "    messages=[\n",
    "        {\"role\": \"user\", \"content\": \"Summarize this legal text: A doctor received a complaint after disclosing information without patient consent.\"}\n",
    "    ]\n",
    ")\n",
    "\n",
    "print(response.choices[0].message.content.strip())\n"
   ]
  },
  {
   "cell_type": "code",
   "execution_count": 10,
   "id": "211defbe-d7f0-4a69-b0ad-bb688bffa3de",
   "metadata": {},
   "outputs": [
    {
     "name": "stdout",
     "output_type": "stream",
     "text": [
      "- Plastisch chirurg één jaar geschorst vanwege seksueel grensoverschrijdend gedrag en onvoldoende medische zorg (Wed, 11 Jun 2025 12:00:00 GMT)\n",
      "  https://www.tuchtcollege-gezondheidszorg.nl/actueel/nieuws/2025/06/11/plastisch-chirurg-een-jaar-geschorst-vanwege-seksueel-grensoverschrijdend-gedrag-en-onvoldoende-medische-zorg\n",
      "\n",
      "- Berisping psychiater en GZ-psycholoog gehandhaafd voor onvoldoende helder en consistent rapport (Wed, 23 Apr 2025 11:15:00 GMT)\n",
      "  https://www.tuchtcollege-gezondheidszorg.nl/actueel/nieuws/2025/04/23/berisping-psychiater-en-gz-psycholoog-gehandhaafd-voor-onheldere-formulering-rapportage\n",
      "\n",
      "- Doorlooptijden tuchtcolleges verkort (Mon, 31 Mar 2025 10:10:00 GMT)\n",
      "  https://www.tuchtcollege-gezondheidszorg.nl/actueel/nieuws/2025/03/31/jaarverslag-2024-gepubliceerd\n",
      "\n",
      "- BIG-registratie internist doorgehaald vanwege seksueel wangedrag bij twee jonge patiëntes en arts-assistente (Fri, 07 Mar 2025 12:00:00 GMT)\n",
      "  https://www.tuchtcollege-gezondheidszorg.nl/actueel/nieuws/2025/03/07/big-registratie-internist-doorgehaald-vanwege-seksueel-wangedrag-bij-twee-jonge-patientes-en-arts-assistente\n",
      "\n",
      "- Algeheel beroepsverbod voor verpleegkundige vanwege verslavingsproblematiek (Tue, 17 Dec 2024 12:00:00 GMT)\n",
      "  https://www.tuchtcollege-gezondheidszorg.nl/actueel/nieuws/2024/012/017/persbericht-rtg-amsterdam\n",
      "\n"
     ]
    }
   ],
   "source": [
    "## --- fetch and parse the RSS feed\n",
    "import requests\n",
    "import xml.etree.ElementTree as ET\n",
    "\n",
    "def fetch_rss_items(url=\"https://feeds.tuchtcollege-gezondheidszorg.nl/nieuws.rss\"):\n",
    "    response = requests.get(url)\n",
    "    if response.status_code != 200:\n",
    "        raise Exception(f\"❌ Failed to fetch RSS feed: {response.status_code}\")\n",
    "    \n",
    "    root = ET.fromstring(response.content)\n",
    "    items = root.findall(\".//item\")\n",
    "    \n",
    "    results = []\n",
    "    for item in items:\n",
    "        title = item.find(\"title\").text\n",
    "        link = item.find(\"link\").text\n",
    "        pub_date = item.find(\"pubDate\").text\n",
    "        results.append({\"title\": title, \"link\": link, \"date\": pub_date})\n",
    "    \n",
    "    return results\n",
    "\n",
    "# Test it\n",
    "rss_items = fetch_rss_items()\n",
    "for item in rss_items[:5]:  # show first 5\n",
    "    print(f\"- {item['title']} ({item['date']})\\n  {item['link']}\\n\")\n"
   ]
  },
  {
   "cell_type": "code",
   "execution_count": 11,
   "id": "cc6da417-a6f7-446f-b318-83592bf390c8",
   "metadata": {},
   "outputs": [
    {
     "name": "stdout",
     "output_type": "stream",
     "text": [
      "\n",
      "\n",
      "\n",
      "\n",
      "\n",
      "\n",
      "\n",
      "\n",
      "Plastisch chirurg één jaar geschorst vanwege seksueel grensoverschrijdend gedrag en onvoldoende medische zorg | Nieuwsbericht | Tuchtcolleges voor de gezondheidszorg\n",
      "\n",
      "\n",
      "\n",
      "\n",
      "\n",
      "\n",
      "\n",
      "\n",
      "\n",
      "\n",
      "\n",
      "\n",
      "\n",
      "\n",
      "\n",
      "\n",
      "\n",
      "\n",
      "\n",
      "\n",
      "\n",
      "\n",
      "\n",
      "\n",
      "\n",
      "\n",
      "\n",
      "\n",
      "\n",
      "\n",
      "\n",
      "\n",
      "\n",
      "\n",
      "Ga direct naar inhoud\n",
      "\n",
      "\n",
      "\n",
      "\n",
      "\n",
      "\n",
      "\n",
      "\n",
      "\n",
      "\n",
      "\n",
      "\n",
      "U bevindt zich hier:\n",
      "Home\n",
      "Actueel\n",
      "Nieuws\n",
      "Plastisch chirurg één jaar geschorst vanwege seksueel grensoverschrijdend gedrag en onvoldoende medische zorg\n",
      "\n",
      "\n",
      "\n",
      "Zoeken binnen Tuchtcolleges voor de gezondheidszorg\n",
      "\n",
      "\n",
      "      Zoek\n",
      "\n",
      "\n",
      "\n",
      "\n",
      "\n",
      "\n",
      "\n",
      "      Plastisch chirurg één jaar geschorst vanwege seksueel grensoverschrijdend gedrag en onvoldoende medische zorg\n",
      "\n",
      "  Nieuwsbericht | 11-06-2025 | 14:00Den Haag - Het Centraal Tuchtcollege voor de Gezondheidszorg legt een plastisch chirurg een onvoorwaardelijke schorsing voor de duur van één jaar op vanwege seksueel grensoverschrijdend gedrag en onvoldoende medische zorg. De eerder bevolen doorhaling van de inschrijving in het BIG-register van de plastisch chirurg wordt vernietigd.\n",
      "Beroep deels gegrond\n",
      "De Inspectie voor Gezon\n"
     ]
    }
   ],
   "source": [
    "###---extract the court decision content --\n",
    "\n",
    "from bs4 import BeautifulSoup\n",
    "import time\n",
    "\n",
    "def get_case_text(url):\n",
    "    response = requests.get(url)\n",
    "    if response.status_code != 200:\n",
    "        print(f\"❌ Failed to fetch: {url}\")\n",
    "        return \"\"\n",
    "    \n",
    "    soup = BeautifulSoup(response.text, \"html.parser\")\n",
    "    \n",
    "    # Most rulings are in <div class=\"field field--name-body ...\"> or similar\n",
    "    content_div = soup.find(\"div\", class_=\"field--name-body\")\n",
    "    if content_div:\n",
    "        return content_div.get_text(separator=\"\\n\", strip=True)\n",
    "    \n",
    "    # Fallback if structure changes\n",
    "    return soup.get_text()\n",
    "\n",
    "# Optional: Preview one\n",
    "test_url = rss_items[0][\"link\"]\n",
    "test_text = get_case_text(test_url)\n",
    "print(test_text[:1000])  # just preview first 1000 chars\n",
    "\n"
   ]
  },
  {
   "cell_type": "code",
   "execution_count": 12,
   "id": "bd2a0cde-efa2-4e21-993d-5a1479efe090",
   "metadata": {},
   "outputs": [
    {
     "name": "stdout",
     "output_type": "stream",
     "text": [
      "**Title:** Plastic Surgeon Suspended for One Year Due to Sexual Misconduct and Inadequate Medical Care\n",
      "\n",
      "**Summary:** The Central Disciplinary Board for Healthcare in the Netherlands has imposed a one-year suspension on a plastic surgeon for sexual misconduct and inadequate medical care. Initially, the Regional Disciplinary Board in Zwolle had ordered the removal of the surgeon from the BIG-register, but this decision was overturned on appeal. The incident involved inappropriate behavior during a video consultation, which led to a patient filing a complaint with the Health and Youth Care Inspectorate and the police. The surgeon's practice management, including constant availability via WhatsApp, was deemed medically irresponsible. Despite contesting the severity of the disciplinary action, the Central Board upheld the suspension as the maximum penalty it could impose.\n"
     ]
    }
   ],
   "source": [
    "##--summarise the court decisions\n",
    "\n",
    "def summarize_case(title, text, url):\n",
    "    prompt = f\"\"\"\n",
    "You are a legal writer summarizing disciplinary rulings for Dutch healthcare professionals. \n",
    "\n",
    "Summarize this court decision clearly in English for a medical audience. Include:\n",
    "- Title (use the title provided)\n",
    "- Summary (in 3–5 sentences max)\n",
    "- Keep it clear, neutral, and informative.\n",
    "\n",
    "Title: {title}\n",
    "Court Text:\n",
    "{text[:3500]}  # limit input to ~3500 characters\n",
    "    \"\"\"\n",
    "\n",
    "    response = openai.chat.completions.create(\n",
    "        model=MODEL,\n",
    "        messages=[{\"role\": \"user\", \"content\": prompt}],\n",
    "        temperature=0.4\n",
    "    )\n",
    "\n",
    "    summary = response.choices[0].message.content.strip()\n",
    "    return {\n",
    "        \"title\": title,\n",
    "        \"summary\": summary,\n",
    "        \"url\": url\n",
    "    }\n",
    "\n",
    "# Test with one\n",
    "test_summary = summarize_case(rss_items[0][\"title\"], test_text, rss_items[0][\"link\"])\n",
    "print(test_summary[\"summary\"])\n"
   ]
  },
  {
   "cell_type": "code",
   "execution_count": 14,
   "id": "a86f95a5-f709-4cab-8925-c3844c06aaf1",
   "metadata": {},
   "outputs": [],
   "source": [
    "def fetch_court_text(url):\n",
    "    response = requests.get(url)\n",
    "    response.raise_for_status()\n",
    "\n",
    "    soup = BeautifulSoup(response.text, \"html.parser\")\n",
    "\n",
    "    # Typical location of court case body text on that site\n",
    "    main = soup.find(\"main\")\n",
    "    if not main:\n",
    "        raise ValueError(\"❌ Could not find main content on page\")\n",
    "\n",
    "    paragraphs = main.find_all([\"p\", \"h2\"])\n",
    "    text = \"\\n\".join(p.get_text(strip=True) for p in paragraphs)\n",
    "    return text\n"
   ]
  },
  {
   "cell_type": "code",
   "execution_count": 15,
   "id": "40967424-741c-4d2b-8d0c-c90d5af04a98",
   "metadata": {},
   "outputs": [
    {
     "data": {
      "application/vnd.jupyter.widget-view+json": {
       "model_id": "e45c9e047fb0464896b7a32ba56c9b9f",
       "version_major": 2,
       "version_minor": 0
      },
      "text/plain": [
       "  0%|          | 0/10 [00:00<?, ?it/s]"
      ]
     },
     "metadata": {},
     "output_type": "display_data"
    },
    {
     "name": "stdout",
     "output_type": "stream",
     "text": [
      "✅ Exported 10 summaries to 'court_summaries.txt'\n"
     ]
    }
   ],
   "source": [
    "from tqdm.notebook import tqdm\n",
    "\n",
    "all_summaries = []\n",
    "\n",
    "for item in tqdm(rss_items[:10]):  # Change 10 to len(rss_items) to process all\n",
    "    title = item[\"title\"]\n",
    "    url = item[\"link\"]\n",
    "\n",
    "    if url in cached_urls:\n",
    "        print(f\"⏭️ Skipping already summarized: {url}\")\n",
    "        continue\n",
    "\n",
    "    try:\n",
    "        text = fetch_court_text(url)\n",
    "        summary = summarize_case(title, text, url)\n",
    "        all_summaries.append(summary)\n",
    "\n",
    "        # ✅ Save link to prevent reprocessing\n",
    "        cached_urls.add(url)\n",
    "        save_cached_urls(cached_urls)\n",
    "\n",
    "    except Exception as e:\n",
    "        print(f\"❌ Error for {url}: {e}\")\n",
    "        all_summaries.append({\n",
    "            \"title\": title,\n",
    "            \"summary\": f\"Error processing case: {e}\",\n",
    "            \"url\": url\n",
    "        })\n",
    "\n",
    "# Export to .txt\n",
    "with open(\"court_summaries.txt\", \"w\", encoding=\"utf-8\") as f:\n",
    "    for case in all_summaries:\n",
    "        f.write(f\"Title: {case['title']}\\n\")\n",
    "        f.write(f\"Link: {case['url']}\\n\")\n",
    "        f.write(f\"{case['summary']}\\n\\n\")\n",
    "\n",
    "print(f\"✅ Exported {len(all_summaries)} summaries to 'court_summaries.txt'\")\n"
   ]
  },
  {
   "cell_type": "code",
   "execution_count": null,
   "id": "799b5fa5-66f7-4ae5-8ad0-120b899ef7b5",
   "metadata": {},
   "outputs": [],
   "source": []
  }
 ],
 "metadata": {
  "kernelspec": {
   "display_name": "Python 3 (ipykernel)",
   "language": "python",
   "name": "python3"
  },
  "language_info": {
   "codemirror_mode": {
    "name": "ipython",
    "version": 3
   },
   "file_extension": ".py",
   "mimetype": "text/x-python",
   "name": "python",
   "nbconvert_exporter": "python",
   "pygments_lexer": "ipython3",
   "version": "3.11.12"
  }
 },
 "nbformat": 4,
 "nbformat_minor": 5
}
